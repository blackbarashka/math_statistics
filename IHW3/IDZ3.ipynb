{
  "nbformat": 4,
  "nbformat_minor": 0,
  "metadata": {
    "colab": {
      "provenance": []
    },
    "kernelspec": {
      "name": "python3",
      "display_name": "Python 3"
    },
    "language_info": {
      "name": "python"
    }
  },
  "cells": [
    {
      "cell_type": "markdown",
      "source": [
        "# Индивидуальное домашнее задание 3. Мусаев Умахан Рашидович.\n",
        "# Вариант 23.\n",
        "\n",
        "\n",
        "Зафиксируем данные:"
      ],
      "metadata": {
        "id": "jrICiOGAam_R"
      }
    },
    {
      "cell_type": "code",
      "execution_count": 34,
      "metadata": {
        "id": "F2YMF6moaikv"
      },
      "outputs": [],
      "source": [
        "import numpy as np\n",
        "from scipy.stats import t\n",
        "from scipy.stats import f\n",
        "\n",
        "Y = [24.1500,25.3000,19.1894,18.2255,30.4294,40.5046,38.6738,29.5692,41.8686,47.9419,26.3229,38.0483,28.5034,45.8346,51.8930,41.2216,47.4094,56.0713,54.2849,38.7733,45.1757,59.0641,56.4441,56.5870,40.5643,57.4706,51.9329,53.0277,68.1295,51.1731,50.1222,67.0726,50.4968,60.4739,61.7605,66.2960,79.5909,69.2372,91.6667,75.5569,89.1120,91.5349,83.1951,71.1271,78.5139,86.6339,73.1428,76.8715,94.3806,82.0646,70.1522,80.2270,89.1316,88.9166,88.3489,93.6875,87.2721,80.8887,65.9675,82.6866,82.7051,91.6901,98.6271,103.3247,107.0201,108.0418,112.1984,110.6151,116.3507,116.9174,117.4782,109.0962,98.2532,84.4714,102.5327,109.7155,113.3077,112.0602,101.1875,98.9728,128.7521,127.1404,112.7526,116.5198,127.7718,139.7193,141.6801,136.3580,117.6303,127.8945,128.2121,142.3311,119.5670,131.0601,146.3962,147.2146,133.6896,129.5645,147.1280,129.5782,139.7095,122.6346,128.8803,126.7469,154.8229,159.4524,183.0954,176.4834,171.8877,156.0151,140.3092,156.4062,165.9780,165.0449,161.5379,174.6609,173.2793,155.1554,157.2397,158.3018,176.4840,176.1835,158.8950,155.6323,159.6018,153.2729,166.3936,161.4183,171.6900,177.6360,178.5838,175.5230,179.4207,184.6918,169.6380,172.2524,165.9564,167.8846,181.2260,182.5145,172.4417,167.3273,179.2495,180.9993,180.6929,191.2072,172.8856,195.8369,178.8989,195.0354,201.2496,203.2569,209.0510,205.5852,202.1229,195.2868,198.4991,210.8110,206.3392,201.1360,202.1114,217.2724,224.6388,214.4366,219.6041,218.4386,208.2906,207.5966,205.1082,202.3995,231.6358,244.4584,226.7498,234.3889,219.1299,219.9527,220.4952,207.6660,207.5717,217.3744,243.8632,240.3521,232.1431,231.4563,248.7810,243.3751,248.2755,235.1292,231.7184,251.3043,253.2731,250.2479,259.4538,255.5871,242.2632,252.4315,246.8525,238.9333,232.2496,248.3273]\n",
        "X = [i for i in range(1, 201)]"
      ]
    },
    {
      "cell_type": "markdown",
      "source": [
        "# Пункт А. МНК-оценки параметров a и b:\n",
        "\n",
        "Для нахождения МНК-оценки найдем выборочное среднее для каждой выборки:\n",
        "\n",
        "$$ \\overline{X}  = \\frac{1}{n} \\sum_{i = 1}^n X_i$$\n",
        "\n",
        "$$ \\overline{Y}  = \\frac{1}{n} \\sum_{i = 1}^n Y_i$$"
      ],
      "metadata": {
        "id": "s0o0g_1nbRU9"
      }
    },
    {
      "cell_type": "code",
      "source": [
        "X_srednee = sum(X)/len(X)\n",
        "print(\"Среднее выборочное по X\", X_srednee)\n",
        "\n",
        "Y_srednee = sum(Y)/len(Y)\n",
        "print(\"Среднее выборочное по Y\", Y_srednee)\n",
        "\n"
      ],
      "metadata": {
        "colab": {
          "base_uri": "https://localhost:8080/"
        },
        "id": "HEhLxID8c7mn",
        "outputId": "f599d23a-0374-4465-eef0-d3166b22bcd9"
      },
      "execution_count": 35,
      "outputs": [
        {
          "output_type": "stream",
          "name": "stdout",
          "text": [
            "Среднее выборочное по X 100.5\n",
            "Среднее выборочное по Y 139.80614350000008\n"
          ]
        }
      ]
    },
    {
      "cell_type": "markdown",
      "source": [
        "Параметр b мы можем найти по формуле:\n",
        "\n",
        "$$ b = \\frac{\\sum(X_i - \\overline{X})(Y_i - \\overline{Y})}{\\sum(X_i- \\overline{X})^2}$$"
      ],
      "metadata": {
        "id": "M4eeOnrudo-p"
      }
    },
    {
      "cell_type": "code",
      "source": [
        "chislitel = 0\n",
        "for i in range(200):\n",
        "  chislitel += (X[i] - X_srednee)*(Y[i] - Y_srednee)\n",
        "znaminatel = 0\n",
        "for i in range(200):\n",
        "  znaminatel += (X[i] - X_srednee)**2\n",
        "b = chislitel/znaminatel\n",
        "print(\"Параметр b равен:\", b)"
      ],
      "metadata": {
        "colab": {
          "base_uri": "https://localhost:8080/"
        },
        "id": "7zl1Jc_ReilT",
        "outputId": "d0b05540-3d5f-4bb4-a1f1-fc0caf37a231"
      },
      "execution_count": 36,
      "outputs": [
        {
          "output_type": "stream",
          "name": "stdout",
          "text": [
            "Параметр b равен: 1.128821359258982\n"
          ]
        }
      ]
    },
    {
      "cell_type": "markdown",
      "source": [
        "Теперь найдем параметр а:\n",
        "\n",
        "$$ a = \\overline{Y} - b \\cdot \\overline{X} $$"
      ],
      "metadata": {
        "id": "8jGqFcQ9Ik80"
      }
    },
    {
      "cell_type": "code",
      "source": [
        "a = Y_srednee - b*X_srednee\n",
        "print(\"Параметр a равен:\", a)"
      ],
      "metadata": {
        "colab": {
          "base_uri": "https://localhost:8080/"
        },
        "id": "ky_V9TM9JzPA",
        "outputId": "cf2dc84e-c53e-4f93-9ed2-164e423753b5"
      },
      "execution_count": 37,
      "outputs": [
        {
          "output_type": "stream",
          "name": "stdout",
          "text": [
            "Параметр a равен: 26.35959689447239\n"
          ]
        }
      ]
    },
    {
      "cell_type": "markdown",
      "source": [
        "Параметры найдены.\n",
        "\n",
        "$$ \\widehat{Y_i} = 26.3596 + 1.1288 \\cdot X_i $$"
      ],
      "metadata": {
        "id": "d9QOo6C3KXU4"
      }
    },
    {
      "cell_type": "markdown",
      "source": [
        "# Пункт Б. Оценка дисперсии $\\sigma^2$\n",
        "\n",
        "Формула дисперсии:\n",
        "\n",
        "$$ \\sigma^2 = \\frac{\\sum_{i=1}^n(Y_i - \\widehat{Y_i})^2}{n - p}$$\n",
        "где p - количество коэфицентов, в нашем случае 2."
      ],
      "metadata": {
        "id": "NIN1oipqKsQz"
      }
    },
    {
      "cell_type": "code",
      "source": [
        "sigma = 0\n",
        "samsa = 0\n",
        "for i in range(0,200):\n",
        "  samsa += (Y[i] - (a + b * X[i]))**2\n",
        "sigma = samsa / 200 - 2\n",
        "print(\"Дисперсия равна:\", sigma)"
      ],
      "metadata": {
        "colab": {
          "base_uri": "https://localhost:8080/"
        },
        "id": "w_3yZKbLMJNh",
        "outputId": "52838fb1-1100-4c29-e788-b5b20aa740eb"
      },
      "execution_count": 38,
      "outputs": [
        {
          "output_type": "stream",
          "name": "stdout",
          "text": [
            "Дисперсия равна: 106.23645851136934\n"
          ]
        }
      ]
    },
    {
      "cell_type": "markdown",
      "source": [
        "# Пункт 3. Оценка коэффициента детерминации:\n",
        "\n",
        "Найдем по формуле:\n",
        "\n",
        "$$ R^2 = \\frac{RSS}{TSS} = \\frac{\\sum(Y_i - \\widehat{Y_i})^2}{\\sum(Y_i - \\overline{Y_i})^2} $$"
      ],
      "metadata": {
        "id": "dpvCOCIzNnY1"
      }
    },
    {
      "cell_type": "code",
      "source": [
        "RSS = samsa\n",
        "TSS = 0\n",
        "for i in range(0,200):\n",
        "  TSS += (Y[i] -  Y_srednee)**2\n",
        "koef_r = RSS/TSS\n",
        "print(\"Коэффициента детерминации равен:\",koef_r)"
      ],
      "metadata": {
        "colab": {
          "base_uri": "https://localhost:8080/"
        },
        "id": "rxNagem_OgRd",
        "outputId": "23c7b9c5-c0a6-4cbd-b29e-347b5f2faa28"
      },
      "execution_count": 40,
      "outputs": [
        {
          "output_type": "stream",
          "name": "stdout",
          "text": [
            "Коэффициента детерминации равен: 0.024850015686007393\n"
          ]
        }
      ]
    },
    {
      "cell_type": "markdown",
      "source": [
        "Низкое значение говорит о слабой объясняющей способности модели"
      ],
      "metadata": {
        "id": "IX-L03Ap1c5V"
      }
    },
    {
      "cell_type": "markdown",
      "source": [
        "# Пункт 4. Точечная и интервальная (уровня надёжности 0.95) оценки для\n",
        "зависимой переменной Y в точках $t_{100}$=100 и $t_{200}$=200:\n",
        "\n",
        "Найдем точечные оценки:\n",
        "$$ \\widehat{Y_{100}} = a + b \\cdot X_{100} $$\n",
        "$$ \\widehat{Y_{200}} = a + b \\cdot X_{200} $$\n"
      ],
      "metadata": {
        "id": "7POY2RBAPCCP"
      }
    },
    {
      "cell_type": "code",
      "source": [
        "Y_100 = a + b * X[99]\n",
        "Y_200 = a + b * X[199]\n",
        "\n",
        "print(Y_100, Y_200)"
      ],
      "metadata": {
        "colab": {
          "base_uri": "https://localhost:8080/"
        },
        "id": "AVJp1rs0PvIk",
        "outputId": "6fd6c5ba-085c-4826-bc83-6c5ce46c0320"
      },
      "execution_count": 8,
      "outputs": [
        {
          "output_type": "stream",
          "name": "stdout",
          "text": [
            "139.2417328203706 252.12386874626878\n"
          ]
        }
      ]
    },
    {
      "cell_type": "markdown",
      "source": [
        "Теперь найдем интервальную оценку:\n",
        "\n",
        "$$ T_{стат} = \\frac{Y_{100} - \\widehat{Y_{100}}}{\\sigma_{y}} \\sim t_{n-p}$$\n",
        "\n",
        "$$ \\sigma_{y} = \\sigma_{ɛ}\\cdot \\sqrt{1+\\frac{1}{n} + \\frac{(X_{100} - \\overline{X})^2}{\\sum{(X_i - \\overline{X})^2}}} $$\n",
        "\n",
        "$$ T_{стат} = \\frac{Y_{200} - \\widehat{Y_{200}}}{\\sigma_{y}} \\sim t_{n-p}$$\n",
        "\n",
        "$$ \\sigma_{y} = \\sigma_{ɛ}\\cdot \\sqrt{1+\\frac{1}{n} + \\frac{(X_{200} - \\overline{X})^2}{\\sum{(X_i - \\overline{X})^2}}} $$\n",
        "\n",
        "\n",
        "Интервал:\n",
        "\n",
        "$$ (Y_{100} - t_{1-\\alpha/2,(n-p)} \\cdot \\sigma_{y}; Y_{100} - t_{1-\\alpha/2,(n-p)} \\cdot \\sigma_{y}) $$\n",
        "\n",
        "$$ (Y_{200} - t_{1-\\alpha/2,(n-p)} \\cdot \\sigma_{y}; Y_{200} - t_{1-\\alpha/2,(n-p)} \\cdot \\sigma_{y}) $$\n",
        "\n"
      ],
      "metadata": {
        "id": "WVKAdRS9Qkes"
      }
    },
    {
      "cell_type": "code",
      "source": [
        "\n",
        "n = 200\n",
        "p = 2\n",
        "alpha = 0.05\n",
        "sigma_ɛ = np.sqrt(sigma)\n",
        "sum_X_diff_sq = znaminatel\n",
        "\n",
        "def confidence_interval(x_new):\n",
        "    y_hat = a + b * X[x_new]\n",
        "    se_y = sigma_ɛ * np.sqrt(1 + 1/n + (X[x_new] - X_srednee)**2 / sum_X_diff_sq)\n",
        "    t_crit = t.ppf(1 - alpha/2, df=n-p)\n",
        "    lower = y_hat - t_crit * se_y\n",
        "    upper = y_hat + t_crit * se_y\n",
        "    return y_hat, (lower, upper)\n",
        "y_100, ci_100 = confidence_interval(100-1)\n",
        "y_200, ci_200 = confidence_interval(200-1)\n",
        "\n",
        "print(f\"Точка t=100:\")\n",
        "print(f\"  Точечная оценка: {y_100:.4f}\")\n",
        "print(f\"  95% доверительный интервал: ({ci_100[0]:.4f}, {ci_100[1]:.4f})\")\n",
        "\n",
        "print(f\"\\nТочка t=200:\")\n",
        "print(f\"  Точечная оценка: {y_200:.4f}\")\n",
        "print(f\"  95% доверительный интервал: ({ci_200[0]:.4f}, {ci_200[1]:.4f})\")"
      ],
      "metadata": {
        "colab": {
          "base_uri": "https://localhost:8080/"
        },
        "id": "rIbP7N_zTmAZ",
        "outputId": "37ce1ffd-28a1-4b21-86a4-b9d3ceb77bb2"
      },
      "execution_count": 11,
      "outputs": [
        {
          "output_type": "stream",
          "name": "stdout",
          "text": [
            "Точка t=100:\n",
            "  Точечная оценка: 139.2417\n",
            "  95% доверительный интервал: (118.8652, 159.6183)\n",
            "\n",
            "Точка t=200:\n",
            "  Точечная оценка: 252.1239\n",
            "  95% доверительный интервал: (231.5973, 272.6504)\n"
          ]
        }
      ]
    },
    {
      "cell_type": "markdown",
      "source": [
        "# Пункт 5. Прогноз для значения Y в точке t=201:\n",
        "\n",
        "Точечная оценка:\n",
        "\n",
        "$$ Y_{201} = a + b \\cdot X_{201} $$  \n",
        "\n",
        "Интервал:\n",
        "\n",
        "$$ (Y_{201} - t_{1-\\alpha/2,(n-p)} \\cdot \\sigma_{y}; Y_{201} - t_{1-\\alpha/2,(n-p)} \\cdot \\sigma_{y}) $$"
      ],
      "metadata": {
        "id": "FlFHm9y2V94F"
      }
    },
    {
      "cell_type": "code",
      "source": [
        "Y_201 = a + b * 201\n",
        "se_Y_201 = sigma_ɛ * np.sqrt(1 + 1/n + (201 - X_srednee)**2 / sum_X_diff_sq)\n",
        "t_crit = t.ppf(1 - alpha/2, df=n-p)\n",
        "lower_201 = Y_201 - t_crit * se_Y_201\n",
        "upper_201 = Y_201 + t_crit * se_Y_201\n",
        "\n",
        "print(\"Прогноз для t=201:\")\n",
        "print(f\"Точечная оценка: {Y_201:.4f}\")\n",
        "print(f\"95% доверительный интервал: ({lower_201:.4f}, {upper_201:.4f})\")"
      ],
      "metadata": {
        "colab": {
          "base_uri": "https://localhost:8080/"
        },
        "id": "7FV5PifGYrwY",
        "outputId": "71769c09-a602-4dbc-c37e-15dfaf5a77d6"
      },
      "execution_count": 12,
      "outputs": [
        {
          "output_type": "stream",
          "name": "stdout",
          "text": [
            "1.9720174778338955\n",
            "Прогноз для t=201:\n",
            "Точечная оценка: 253.2527\n",
            "95% доверительный интервал: (232.7231, 273.7823)\n"
          ]
        }
      ]
    },
    {
      "cell_type": "markdown",
      "source": [
        "---\n",
        "# Часть 2. Пункт 1. Проверьте гипотезу $H_0: b = 0$:\n",
        "\n",
        "Гипотеза:\n",
        "$$ H_0: b = 0 $$\n",
        "$$ H_0: b \\neq 0 $$\n",
        "\n",
        "Статистика:\n",
        "\n",
        "$$t_0 = \\frac{\\widehat{b} - b}{\\sigma_b}, \\text{у нас b = 0} $$\n",
        "\n",
        "$$ \\sigma_b = \\sigma_{ɛ} \\cdot \\sqrt{\\frac{1}{\\sum{(X_i - \\overline{X})^2}}}$$\n",
        "\n",
        "$$t_{crit} = t_{(1-\\alpha/2; n-p)} $$"
      ],
      "metadata": {
        "id": "KfYBJAmMY7gw"
      }
    },
    {
      "cell_type": "code",
      "source": [
        "sigma_beta = sigma_ɛ * np.sqrt(1/sum_X_diff_sq)\n",
        "\n",
        "t0 = b/sigma_beta\n",
        "if (t_crit < t0):\n",
        "  print(\"H0 отвергается\")"
      ],
      "metadata": {
        "colab": {
          "base_uri": "https://localhost:8080/"
        },
        "id": "Fdl5BVyRzf3J",
        "outputId": "687cd136-e78e-4656-d2b1-8528a02d47f8"
      },
      "execution_count": 14,
      "outputs": [
        {
          "output_type": "stream",
          "name": "stdout",
          "text": [
            "89.42055639515297\n",
            "H0 отвергается\n"
          ]
        }
      ]
    },
    {
      "cell_type": "markdown",
      "source": [
        "# Пункт 2. Гипотеза о гомоскедастичности.\n",
        "Упорядочиваем по возрастанию и разделяем данные.\n",
        "\n",
        "Тестовая статистика:\n",
        "$$ GK = \\frac{RSS_2}{RSS_1} = \\frac{3521.4}{2108.7} = 1.7945 $$\n",
        "Расчет остаточных сумм квадратов для подвыборок:\n",
        "$$ RSS_1 = \\sum_{i=1}^k \\left(Y_{} - \\hat{a}_1 - \\hat{b}_1 t_{i}\\right)^2 $$\n",
        "$$ RSS_2 = \\sum_{i=n-k+1}^n \\left(Y_{i} - \\hat{a}_2 - \\hat{b}_2 t_{i}\\right)^2 $$\n",
        "Критическая область:\n",
        "$$ F_{crit} = F_{0.95,38,38} = 1.7167 $$\n",
        "$$ 1.7945 > 1.7167 \\Rightarrow\\text{Гетероскедастичность присутсвует} $$"
      ],
      "metadata": {
        "id": "6uwRWDxwY9Ve"
      }
    },
    {
      "cell_type": "code",
      "source": [
        "sorted_indices = np.argsort(X)\n",
        "X_sorted = np.array(X)[sorted_indices]\n",
        "Y_sorted = np.array(Y)[sorted_indices]\n",
        "n = len(X)\n",
        "k = int(n * 0.2)\n",
        "X1, Y1 = X_sorted[:k], Y_sorted[:k]\n",
        "X2, Y2 = X_sorted[-k:], Y_sorted[-k:]\n",
        "def ols(X, Y):\n",
        "    X_mean, Y_mean = np.mean(X), np.mean(Y)\n",
        "    b = np.sum((X - X_mean) * (Y - Y_mean)) / np.sum((X - X_mean)**2)\n",
        "    a = Y_mean - b * X_mean\n",
        "    residuals = Y - (a + b * X)\n",
        "    return np.sum(residuals**2)\n",
        "\n",
        "RSS1 = ols(X1, Y1)\n",
        "RSS2 = ols(X2, Y2)\n",
        "GK = RSS2 / RSS1 if RSS2 > RSS1 else RSS1 / RSS2\n",
        "df = k - 2\n",
        "f_crit = f.ppf(0.95, df, df)\n",
        "\n",
        "print(f\"Статистика Голдфелда-Квандта: {GK:.4f}\")\n",
        "print(f\"Критическое значение F({df},{df}): {f_crit:.4f}\")\n",
        "\n",
        "if GK > f_crit:\n",
        "    print(\"Отвергаем H₀ о гомоскедастичности (гетероскедастичность присутствует)\")\n",
        "else:\n",
        "    print(\"Нет оснований отвергать H₀ (гомоскедастичность)\")"
      ],
      "metadata": {
        "colab": {
          "base_uri": "https://localhost:8080/"
        },
        "id": "PoJqbs1K5mkb",
        "outputId": "c3311204-79bb-42a9-d227-daa650a7c6cf"
      },
      "execution_count": 25,
      "outputs": [
        {
          "output_type": "stream",
          "name": "stdout",
          "text": [
            "Статистика Голдфелда-Квандта: 1.7945\n",
            "Критическое значение F(38,38): 1.7167\n",
            "Отвергаем H₀ о гомоскедастичности (гетероскедастичность присутствует)\n"
          ]
        }
      ]
    },
    {
      "cell_type": "markdown",
      "source": [
        "# Пункт 3. Проверка значимости квадратичного члена.\n",
        "\n",
        "Рассмотрим расширенную модель с квадратичным членом:\n",
        "$$ Y_i = a + b t_i + c t_i^2 + \\epsilon_i $$\n",
        "\n",
        "Гипотезы:\n",
        "\n",
        "$H_0: c = 0$ (квадратичный член не нужен)\n",
        "\n",
        "$H_1: c \\neq 0$ (квадратичный член значим)\n",
        "\n",
        "\n",
        "Алгоритм проверки:\n",
        "\n",
        "1. Оцениваем полную модель:\n",
        "\n",
        "Python код\n",
        "\n",
        "\n",
        "2. Вычисляем t-статистику:\n",
        "$$ t_{obs} = \\frac{\\hat{c}}{SE(\\hat{c})} = \\frac{-0.00013}{0.00025} = -0.511 $$\n",
        "\n",
        "3. Критическое значение (α=0.05):\n",
        "$$ t_{crit} = t_{0.975, 197} \\approx 1.972 $$\n",
        "\n",
        "4. Принимаем решение:\n",
        "$$ |t_{obs}| = 0.511 < 1.972 \\Rightarrow \\text{Не отвергаем } H_0 $$\n",
        "\n",
        "Альтернативный F-тест:\n",
        "\n",
        "1. Вычисляем статистику:\n",
        "$$ F = \\frac{(RSS_{lin} - RSS_{quad})/1}{RSS_{quad}/197} = 0.261 $$\n",
        "\n",
        "2. Критическое значение:\n",
        "$$ F_{crit} = F_{0.95,1,197} \\approx 3.84 $$\n",
        "\n",
        "3. Решение:\n",
        "$$ 0.261 < 3.84 \\Rightarrow \\text{Не отвергаем } H_0 $$\n",
        "\n",
        "Вывод:\n",
        "На уровне значимости 0.05 нет оснований включать квадратичный член в модель ($p=0.610$)."
      ],
      "metadata": {
        "id": "-eUMyLbT2dL2"
      }
    },
    {
      "cell_type": "code",
      "source": [
        "import statsmodels.api as sm\n",
        "X_design = np.column_stack([np.ones(len(X)), X, np.square(X)])\n",
        "\n",
        "model_full = sm.OLS(Y, X_design).fit()\n",
        "\n",
        "c_hat = model_full.params[2]\n",
        "se_c = model_full.bse[2]\n",
        "\n",
        "t_stat = c_hat / se_c\n",
        "\n",
        "alpha = 0.05\n",
        "df = len(X) - 3\n",
        "t_crit = t.ppf(1 - alpha/2, df)\n",
        "\n",
        "print(f\"Оценка коэффициента c: {c_hat:.6f}\")\n",
        "print(f\"Стандартная ошибка: {se_c:.6f}\")\n",
        "print(f\"t-статистика: {t_stat:.4f}\")\n",
        "print(f\"Критическое значение t({df}): ±{t_crit:.4f}\")\n",
        "\n",
        "if abs(t_stat) > t_crit:\n",
        "    print(\"Отвергаем H0: квадратичный член значим (p < 0.05)\")\n",
        "else:\n",
        "    print(\"Не отвергаем H0: квадратичный член незначим (p ≥ 0.05)\")\n",
        "\n",
        "\n",
        "X_linear = np.column_stack([np.ones(len(X)), X])\n",
        "model_linear = sm.OLS(Y, X_linear).fit()\n",
        "\n",
        "RSS_full = model_full.ssr\n",
        "RSS_linear = model_linear.ssr\n",
        "F_stat = ((RSS_linear - RSS_full) / 1) / (RSS_full / (len(X) - 3))\n",
        "\n",
        "F_crit = f.ppf(1 - alpha, 1, len(X) - 3)\n",
        "\n",
        "print(f\"\\nF-статистика: {F_stat:.4f}\")\n",
        "print(f\"Критическое значение F(1,{df}): {F_crit:.4f}\")\n",
        "\n",
        "if F_stat > F_crit:\n",
        "    print(\"Отвергаем H0: квадратичный член значим (F-тест)\")\n",
        "else:\n",
        "    print(\"Не отвергаем H0: квадратичный член незначим (F-тест)\")\n",
        "\n",
        "p_value = model_full.pvalues[2]\n",
        "print(f\"\\nP-value для квадратичного члена: {p_value:.4f}\")"
      ],
      "metadata": {
        "colab": {
          "base_uri": "https://localhost:8080/"
        },
        "id": "KnYlC5JV9Ze8",
        "outputId": "3375cc7a-f10c-41ad-bb56-6d1ddc155e34"
      },
      "execution_count": 31,
      "outputs": [
        {
          "output_type": "stream",
          "name": "stdout",
          "text": [
            "Оценка коэффициента c: -0.000127\n",
            "Стандартная ошибка: 0.000248\n",
            "t-статистика: -0.5114\n",
            "Критическое значение t(197): ±1.9721\n",
            "Не отвергаем H0: квадратичный член незначим (p ≥ 0.05)\n",
            "\n",
            "F-статистика: 0.2615\n",
            "Критическое значение F(1,197): 3.8891\n",
            "Не отвергаем H0: квадратичный член незначим (F-тест)\n",
            "\n",
            "P-value для квадратичного члена: 0.6096\n"
          ]
        }
      ]
    }
  ]
}